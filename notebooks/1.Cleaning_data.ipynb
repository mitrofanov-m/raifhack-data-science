{
 "cells": [
  {
   "cell_type": "code",
   "execution_count": 1,
   "metadata": {},
   "outputs": [],
   "source": [
    "import os\n",
    "# перейдем в родительскую директорию чтобы использовать пакет raiflib без установки\n",
    "notebook_path = os.getcwd()\n",
    "os.chdir(os.path.dirname(notebook_path))"
   ]
  },
  {
   "cell_type": "code",
   "execution_count": 2,
   "metadata": {},
   "outputs": [],
   "source": [
    "import re\n",
    "import pandas as pd\n",
    "import numpy as np\n",
    "\n",
    "from tqdm import tqdm\n",
    "from tqdm.auto import tqdm\n",
    "tqdm.pandas()"
   ]
  },
  {
   "cell_type": "code",
   "execution_count": 3,
   "metadata": {},
   "outputs": [
    {
     "name": "stderr",
     "output_type": "stream",
     "text": [
      "/opt/anaconda3/lib/python3.7/site-packages/IPython/core/interactiveshell.py:3331: DtypeWarning: Columns (1) have mixed types.Specify dtype option on import or set low_memory=False.\n",
      "  exec(code_obj, self.user_global_ns, self.user_ns)\n"
     ]
    }
   ],
   "source": [
    "df = pd.read_csv('../data/train.csv')\n",
    "tdf = pd.read_csv('../data/test.csv')"
   ]
  },
  {
   "cell_type": "markdown",
   "metadata": {},
   "source": [
    "# Исправим ошибки, найденные в ходе исследования данных"
   ]
  },
  {
   "cell_type": "code",
   "execution_count": 4,
   "metadata": {},
   "outputs": [
    {
     "data": {
      "text/plain": [
       "Санкт-Петербург          18888\n",
       "Ленинградская область       18\n",
       "Name: region, dtype: int64"
      ]
     },
     "execution_count": 4,
     "metadata": {},
     "output_type": "execute_result"
    }
   ],
   "source": [
    "# 1. Город Санкт-Петербург в данных представлен для двух регионов\n",
    "df[df.city == 'Санкт-Петербург'].region.value_counts()"
   ]
  },
  {
   "cell_type": "code",
   "execution_count": 5,
   "metadata": {},
   "outputs": [
    {
     "data": {
      "text/plain": [
       "Санкт-Петербург    18906\n",
       "Name: region, dtype: int64"
      ]
     },
     "execution_count": 5,
     "metadata": {},
     "output_type": "execute_result"
    }
   ],
   "source": [
    "df['region'] = df['region'].where(df.city != 'Санкт-Петербург', 'Санкт-Петербург')\n",
    "tdf['region'] = tdf['region'].where(tdf.city != 'Санкт-Петербург', 'Санкт-Петербург')\n",
    "df[df.city == 'Санкт-Петербург'].region.value_counts()"
   ]
  },
  {
   "cell_type": "markdown",
   "metadata": {},
   "source": [
    "# Очистка данных floor\n",
    "## Заметим большое число пропусков в floor. Тем не менее, данный параметр зачастую очень важен при оценке недвижимости. Попытаемся навести порядок в этой переменной. "
   ]
  },
  {
   "cell_type": "code",
   "execution_count": 8,
   "metadata": {},
   "outputs": [],
   "source": [
    "def get_int_floor(string) -> int:\n",
    "    if re.search('(?<![0-9\\-])1(?![0-9])', string):\n",
    "        return 1\n",
    "    elif re.search('(подвал|цоколь|-1)', string):\n",
    "        return -1\n",
    "    else:\n",
    "        try:\n",
    "            return re.search('(?<![0-9])-*\\d+(?![0-9])', string).group()\n",
    "        except:\n",
    "                return 0 #  вставить паттерн неизвестного значения\n",
    "    \n",
    "def categorize_floor(floor) -> int:\n",
    "    if isinstance(floor, str):\n",
    "        floor = get_int_floor(floor)\n",
    "\n",
    "    try:\n",
    "        floor = int(floor)\n",
    "    except:\n",
    "        return 0\n",
    "\n",
    "    if floor < 0:\n",
    "        return -1\n",
    "    elif floor == 1 or floor == 2:\n",
    "        return floor\n",
    "    elif floor in range(3,6):\n",
    "        return 3\n",
    "    elif floor in range(5,11):\n",
    "        return 4\n",
    "    elif floor in range(10,21):\n",
    "        return 5\n",
    "    elif floor in range(20,51):\n",
    "        return 6\n",
    "    elif floor > 50:\n",
    "        return 7\n",
    "    else:\n",
    "        return 0\n",
    "    \n",
    "\n",
    "def prepare_floor(floors: pd.Series) -> pd.Series:\n",
    "    return floors.progress_apply(categorize_floor)"
   ]
  },
  {
   "cell_type": "code",
   "execution_count": 9,
   "metadata": {},
   "outputs": [
    {
     "name": "stderr",
     "output_type": "stream",
     "text": [
      "100%|██████████| 279792/279792 [00:01<00:00, 279776.59it/s]\n",
      "100%|██████████| 279792/279792 [00:01<00:00, 196044.10it/s]\n",
      "100%|██████████| 2974/2974 [00:00<00:00, 175767.39it/s]\n",
      "100%|██████████| 2974/2974 [00:00<00:00, 250403.70it/s]\n"
     ]
    }
   ],
   "source": [
    "df['floor'] = prepare_floor(df.floor).astype('int32')\n",
    "df['reform_mean_floor_count_1000'] = prepare_floor(df.reform_mean_floor_count_1000).astype('int32')\n",
    "tdf['floor'] = prepare_floor(tdf.floor).astype('int32')\n",
    "tdf['reform_mean_floor_count_1000'] = prepare_floor(tdf.reform_mean_floor_count_1000).astype('int32')"
   ]
  },
  {
   "cell_type": "markdown",
   "metadata": {},
   "source": [
    "# Очистка от нерепрезентативных объявлений"
   ]
  },
  {
   "cell_type": "code",
   "execution_count": 10,
   "metadata": {},
   "outputs": [],
   "source": [
    "# Обратив внимание на города, в которых было найдено только одно-три объявления, \n",
    "# удалим таковые из предположения, что нельзя определить, адекватное было объявление или нет.\n",
    "\n",
    "city_offer_counts = df[df.price_type == 0] \\\n",
    "        .groupby(['region', 'city'], as_index=False) \\\n",
    "        .agg({'id': 'count'})\n",
    "\n",
    "city_offer_indeces_series = df.reset_index()[df.price_type == 0] \\\n",
    "    .groupby(['region', 'city'])['index'].apply(list)\n",
    "city_offer_indeces = pd.DataFrame(city_offer_indeces_series.index.tolist(), columns=['region', 'city'])\n",
    "city_offer_indeces['indeces'] = city_offer_indeces_series.tolist()\n",
    "low_city_offers = pd.merge(city_offer_counts, city_offer_indeces, on=['region', 'city']).query('id < 5')\n",
    "bad_idx_list = [idx for city_indeces in low_city_offers.indeces.tolist() for idx in city_indeces]\n",
    "bad_df = df.index.isin(bad_idx_list)\n",
    "df = df[~bad_df]"
   ]
  },
  {
   "cell_type": "markdown",
   "metadata": {},
   "source": [
    "# Очистка данных reform"
   ]
  },
  {
   "cell_type": "markdown",
   "metadata": {},
   "source": [
    "Среди данных reform замечены такие недочеты, как:\n",
    "- пропуски\n",
    "```\n",
    "df[['reform_mean_year_building_500', 'reform_mean_year_building_1000']].info()\n",
    "```\n",
    "- выбросы\n",
    "```\n",
    "df[['city','id','reform_mean_year_building_500', 'reform_mean_year_building_1000']][df.reform_mean_year_building_500.isna()] \\\n",
    "    .sort_values(by='reform_mean_year_building_1000', na_position='first').query('reform_mean_year_building_1000 < 1600')\n",
    "```\n",
    "\n"
   ]
  },
  {
   "cell_type": "code",
   "execution_count": 11,
   "metadata": {},
   "outputs": [],
   "source": [
    "# 1. Значения меньше 1600 сделать NaN\n",
    "df['reform_mean_year_building_1000'] = df['reform_mean_year_building_1000'].where(df['reform_mean_year_building_1000'] >= 1600, np.NaN)\n",
    "tdf['reform_mean_year_building_1000'] = tdf['reform_mean_year_building_1000'].where(tdf['reform_mean_year_building_1000'] >= 1600, np.NaN)\n",
    "\n",
    "# 2. Вычисляем медианные значения для каждого города\n",
    "tmp = df[['region', 'city', 'reform_mean_year_building_1000']] \\\n",
    "        .dropna() \\\n",
    "        .groupby(['region', 'city'], as_index=False)['reform_mean_year_building_1000'] \\\n",
    "        .median() \\\n",
    "        .rename(columns={'reform_mean_year_building_1000': 'city_median_reform_mean_year_building_1000'})\n",
    "df = pd.merge(df, tmp, on=['region', 'city'], how='left')\n",
    "tdf = pd.merge(tdf, tmp, on=['region', 'city'], how='left')\n",
    "\n",
    "# 3. Вычисляем медианные значения для каждого региона\n",
    "tmp = df[['region', 'reform_mean_year_building_1000']] \\\n",
    "        .dropna() \\\n",
    "        .groupby(['region'], as_index=False)['reform_mean_year_building_1000'] \\\n",
    "        .median() \\\n",
    "        .rename(columns={'reform_mean_year_building_1000': 'region_median_reform_mean_year_building_1000'})\n",
    "df = pd.merge(df, tmp, on=['region'], how='left')\n",
    "tdf = pd.merge(tdf, tmp, on=['region'], how='left')\n",
    "\n",
    "# Заполнение пропусков в колонке reform_mean_year_building.\n",
    "# Создаем колонку reform_mean_year_building с значениями reform_mean_year_building_500, \n",
    "# NaN значения в которых заполняем значениями 1км, города, региона последовательно\n",
    "df['reform_mean_year_building'] = df['reform_mean_year_building_500'].where(df.reform_mean_year_building_500.notna(), df.reform_mean_year_building_1000)\n",
    "df['reform_mean_year_building'] = df['reform_mean_year_building'].where(df.reform_mean_year_building.notna(), df.city_median_reform_mean_year_building_1000)\n",
    "df['reform_mean_year_building'] = df['reform_mean_year_building'].where(df.reform_mean_year_building.notna(), df.region_median_reform_mean_year_building_1000)\n",
    "\n",
    "tdf['reform_mean_year_building'] = tdf['reform_mean_year_building_500'].where(tdf.reform_mean_year_building_500.notna(), tdf.reform_mean_year_building_1000)\n",
    "tdf['reform_mean_year_building'] = tdf['reform_mean_year_building'].where(tdf.reform_mean_year_building.notna(), tdf.city_median_reform_mean_year_building_1000)\n",
    "tdf['reform_mean_year_building'] = tdf['reform_mean_year_building'].where(tdf.reform_mean_year_building.notna(), tdf.region_median_reform_mean_year_building_1000)"
   ]
  },
  {
   "cell_type": "markdown",
   "metadata": {},
   "source": [
    "# Очистка объявлений от выбросов в per_square_meter_price"
   ]
  },
  {
   "cell_type": "code",
   "execution_count": 12,
   "metadata": {},
   "outputs": [],
   "source": [
    "# сначала составить минимальный датафрейм для анализа, а затем его потихоньку расширять\n",
    "# ['date', 'id','city', 'region', 'realty_type', 'total_square', 'per_square_meter_price', 'floor', 'lat', 'lng', 'reform_mean_year_building_*']\n",
    "# - floor\n",
    "# - reform_mean_year_building"
   ]
  },
  {
   "cell_type": "code",
   "execution_count": 13,
   "metadata": {},
   "outputs": [],
   "source": [
    "# вручную удалим повторяющиеся признаки с разным метражом, оставив только значение \"in 0.01\" для osm и \"1000\" для reform\n",
    "main_columns = [\n",
    "    'id',\n",
    "    'region', \n",
    "    'city', 'floor',\n",
    "    'total_square', \n",
    "    'realty_type', \n",
    "    'price_type', \n",
    "    'osm_amenity_points_in_0.01', \n",
    "    'osm_building_points_in_0.01', \n",
    "    'osm_catering_points_in_0.01', \n",
    "    'osm_city_closest_dist', \n",
    "    'osm_city_nearest_name', \n",
    "    'osm_city_nearest_population',\n",
    "    'osm_crossing_closest_dist', \n",
    "    'osm_crossing_points_in_0.01', \n",
    "    'osm_culture_points_in_0.01',\n",
    "    'osm_healthcare_points_in_0.01', \n",
    "    'osm_historic_points_in_0.01', \n",
    "    'osm_hotels_points_in_0.01',\n",
    "    'osm_leisure_points_in_0.01', \n",
    "    'osm_offices_points_in_0.01', \n",
    "    'osm_shops_points_in_0.01', \n",
    "    'osm_subway_closest_dist',\n",
    "    'osm_train_stop_closest_dist', \n",
    "    'osm_train_stop_points_in_0.01', \n",
    "    'osm_transport_stop_closest_dist',\n",
    "    'osm_transport_stop_points_in_0.01', \n",
    "    'reform_count_of_houses_1000', \n",
    "    'reform_house_population_1000',\n",
    "    'reform_mean_floor_count_1000',\n",
    "    'reform_mean_year_building',\n",
    "    'lat', 'lng',\n",
    "    'date'\n",
    "]"
   ]
  },
  {
   "cell_type": "code",
   "execution_count": 14,
   "metadata": {},
   "outputs": [
    {
     "name": "stdout",
     "output_type": "stream",
     "text": [
      "<class 'pandas.core.frame.DataFrame'>\n",
      "Int64Index: 274280 entries, 0 to 274279\n",
      "Data columns (total 34 columns):\n",
      " #   Column                             Non-Null Count   Dtype  \n",
      "---  ------                             --------------   -----  \n",
      " 0   id                                 274280 non-null  object \n",
      " 1   region                             274280 non-null  object \n",
      " 2   city                               274280 non-null  object \n",
      " 3   floor                              274280 non-null  int32  \n",
      " 4   total_square                       274280 non-null  float64\n",
      " 5   realty_type                        274280 non-null  int64  \n",
      " 6   price_type                         274280 non-null  int64  \n",
      " 7   osm_amenity_points_in_0.01         274280 non-null  int64  \n",
      " 8   osm_building_points_in_0.01        274280 non-null  int64  \n",
      " 9   osm_catering_points_in_0.01        274280 non-null  int64  \n",
      " 10  osm_city_closest_dist              274280 non-null  float64\n",
      " 11  osm_city_nearest_name              274280 non-null  object \n",
      " 12  osm_city_nearest_population        274241 non-null  float64\n",
      " 13  osm_crossing_closest_dist          274280 non-null  float64\n",
      " 14  osm_crossing_points_in_0.01        274280 non-null  int64  \n",
      " 15  osm_culture_points_in_0.01         274280 non-null  int64  \n",
      " 16  osm_healthcare_points_in_0.01      274280 non-null  int64  \n",
      " 17  osm_historic_points_in_0.01        274280 non-null  int64  \n",
      " 18  osm_hotels_points_in_0.01          274280 non-null  int64  \n",
      " 19  osm_leisure_points_in_0.01         274280 non-null  int64  \n",
      " 20  osm_offices_points_in_0.01         274280 non-null  int64  \n",
      " 21  osm_shops_points_in_0.01           274280 non-null  int64  \n",
      " 22  osm_subway_closest_dist            274280 non-null  float64\n",
      " 23  osm_train_stop_closest_dist        274280 non-null  float64\n",
      " 24  osm_train_stop_points_in_0.01      274280 non-null  int64  \n",
      " 25  osm_transport_stop_closest_dist    274280 non-null  float64\n",
      " 26  osm_transport_stop_points_in_0.01  274280 non-null  int64  \n",
      " 27  reform_count_of_houses_1000        274280 non-null  int64  \n",
      " 28  reform_house_population_1000       261819 non-null  float64\n",
      " 29  reform_mean_floor_count_1000       274280 non-null  int32  \n",
      " 30  reform_mean_year_building          274280 non-null  float64\n",
      " 31  lat                                274280 non-null  float64\n",
      " 32  lng                                274280 non-null  float64\n",
      " 33  date                               274280 non-null  object \n",
      "dtypes: float64(11), int32(2), int64(16), object(5)\n",
      "memory usage: 71.1+ MB\n"
     ]
    }
   ],
   "source": [
    "df[main_columns].info()"
   ]
  },
  {
   "cell_type": "code",
   "execution_count": 15,
   "metadata": {},
   "outputs": [],
   "source": [
    "\n",
    "tdf[main_columns].to_csv('../data/1.ipynb_Cleaning_data_test.csv')\n",
    "main_columns.append('per_square_meter_price')\n",
    "df[main_columns].to_csv('../data/1.ipynb_Cleaning_data.csv')"
   ]
  },
  {
   "cell_type": "code",
   "execution_count": 16,
   "metadata": {},
   "outputs": [],
   "source": [
    "# TODO: доочистить данные\n",
    "#           - убрать выбросы по lat, lon"
   ]
  }
 ],
 "metadata": {
  "interpreter": {
   "hash": "dca0ade3e726a953b501b15e8e990130d2b7799f14cfd9f4271676035ebe5511"
  },
  "kernelspec": {
   "display_name": "Python 3.7.6 64-bit ('base': conda)",
   "name": "python3"
  },
  "language_info": {
   "codemirror_mode": {
    "name": "ipython",
    "version": 3
   },
   "file_extension": ".py",
   "mimetype": "text/x-python",
   "name": "python",
   "nbconvert_exporter": "python",
   "pygments_lexer": "ipython3",
   "version": "3.7.6"
  },
  "orig_nbformat": 4
 },
 "nbformat": 4,
 "nbformat_minor": 2
}
